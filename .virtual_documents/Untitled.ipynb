





import matplotlib.pyplot as plt


x=[1,2,3,4,5]
y=[1,4,9,16,25]
# create a line plot

plt.figure()
plt.title("number and square")
plt.plot(x,y)
plt.xlabel("x-axis")
plt.ylabel("y-axis")

plt.show()


x=[1,2,3,4,5]
y=[1,4,9,16,25]

# create customize line plot
plt.plot(x,y,color="r",linestyle='--',marker='*',markersize=50)

plt.grid()


# create multiple plot

# sample data
x=[1,2,3,4,5]
y=[1,4,9,16,25]
z=[1,8,27,64,125]

plt.figure(figsize=(10,10))
plt.subplot(2,2,1)
plt.plot(x,y)


plt.subplot(2,2,2)
plt.plot(x,z,color="r")

plt.subplot(2,2,3)
plt.plot(z,x,color='b')

plt.subplot(2,2,4)
plt.plot(y,z,color='#00FF00')


# Bar plot
category=['a','b','c','d','e']
values=[12,365,26,85,59]

plt.bar(category,values, color="#00FF00")


# hisotgram

data=[1,2,3,2,3,2,1,4,5,5,4,1,2,5,4,1,2,3,5,4]
plt.hist(data,bins=5,color="orange",edgecolor="b")


# scatter plot

x=[1,2,3,4,5]
y=[1,4,9,16,25]

plt.scatter(x,y,marker="*")


# pie chart
labels=['A','B','C','D','E']
size=[30,20,40,10,25]
colors=['gold','yellowgreen','lightcoral','lightskyblue']
explode=(0.2,0,0,1,0)  # to move out the slice

# create a pie chart

plt.pie(size,labels=labels,colors=colors,autopct="%1.1f%%",shadow=True)

plt.pie(size,explode=explode,labels=labels,colors=colors,autopct="%1.1f%%",shadow=True)


# Sales Data Visulalization

import pandas as pd
large_employee_data_df=pd.read_csv("large_employee_data.csv")
large_employee_data_df.head()


## plot total salary  department wise
total_salary_by_dept=large_employee_data_df.groupby('Department')['Salary'].min()
print(total_salary_by_dept)


total_salary_by_dept.plot(kind='bar',color='lime')



