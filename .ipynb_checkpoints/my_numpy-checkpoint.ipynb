{
 "cells": [
  {
   "cell_type": "code",
   "execution_count": 1,
   "id": "62122ca8-b4c6-443b-9968-078c121ffee1",
   "metadata": {},
   "outputs": [],
   "source": [
    "import numpy as np"
   ]
  },
  {
   "cell_type": "raw",
   "id": "dea486c7-e7a7-46ba-9f40-cfd8c2a4f640",
   "metadata": {},
   "source": [
    "shape=arr.shape\n",
    "arrray dimention=arr.ndim\n",
    "array size= arr.size\n",
    "arrray data type=arr.dtype\n",
    "array size in byte= arr.itemsizze"
   ]
  },
  {
   "cell_type": "code",
   "execution_count": 3,
   "id": "ba230695-fc80-463f-be29-582ee6645780",
   "metadata": {},
   "outputs": [
    {
     "data": {
      "text/plain": [
       "numpy.ndarray"
      ]
     },
     "execution_count": 3,
     "metadata": {},
     "output_type": "execute_result"
    }
   ],
   "source": [
    "# create array\n",
    "# create one D array\n",
    "arr1=np.array([1,2,3,6,4,5])\n",
    "arr1\n",
    "type(arr1)\n"
   ]
  },
  {
   "cell_type": "code",
   "execution_count": 5,
   "id": "b9326211-c591-480a-a7dc-b885616e5977",
   "metadata": {},
   "outputs": [
    {
     "data": {
      "text/plain": [
       "(6,)"
      ]
     },
     "execution_count": 5,
     "metadata": {},
     "output_type": "execute_result"
    }
   ],
   "source": [
    "arr1.shape"
   ]
  },
  {
   "cell_type": "code",
   "execution_count": 6,
   "id": "c7281fd3-5d9e-4964-961f-ed5a25e8edee",
   "metadata": {},
   "outputs": [
    {
     "data": {
      "text/plain": [
       "array([[1, 2, 3],\n",
       "       [6, 4, 5]])"
      ]
     },
     "execution_count": 6,
     "metadata": {},
     "output_type": "execute_result"
    }
   ],
   "source": [
    "arr2=arr1.reshape(2,3)\n",
    "arr2"
   ]
  },
  {
   "cell_type": "code",
   "execution_count": 9,
   "id": "d493e87b-13b5-45cf-ad95-96a2e309413f",
   "metadata": {},
   "outputs": [
    {
     "data": {
      "text/plain": [
       "array([[1],\n",
       "       [2],\n",
       "       [3],\n",
       "       [6],\n",
       "       [4],\n",
       "       [5]])"
      ]
     },
     "execution_count": 9,
     "metadata": {},
     "output_type": "execute_result"
    }
   ],
   "source": [
    "arr4=np.array([1,2,3,6,4,5])\n",
    "arr3=arr4.reshape(6,1)\n",
    "arr3"
   ]
  },
  {
   "cell_type": "code",
   "execution_count": 16,
   "id": "6278ff65-bd74-491f-82c3-70eb491cc889",
   "metadata": {},
   "outputs": [
    {
     "data": {
      "text/plain": [
       "2"
      ]
     },
     "execution_count": 16,
     "metadata": {},
     "output_type": "execute_result"
    }
   ],
   "source": [
    "# two dimention array\n",
    "arr5=np.array([[1,0,2,3,0],[2,3,5,6,3]])\n",
    "type(arr5)\n",
    "arr5.ndim"
   ]
  },
  {
   "cell_type": "code",
   "execution_count": 21,
   "id": "ba08feb3-08c1-43d7-acb0-f8c68a91d599",
   "metadata": {},
   "outputs": [
    {
     "data": {
      "text/plain": [
       "array([[0],\n",
       "       [2],\n",
       "       [4],\n",
       "       [6],\n",
       "       [8]])"
      ]
     },
     "execution_count": 21,
     "metadata": {},
     "output_type": "execute_result"
    }
   ],
   "source": [
    "np.arange(0,10,2).reshape(5,1)"
   ]
  },
  {
   "cell_type": "code",
   "execution_count": 26,
   "id": "a29af869-2e23-4622-944b-92c03fdee43d",
   "metadata": {},
   "outputs": [
    {
     "data": {
      "text/plain": [
       "array([[1., 1., 1., 1., 1.],\n",
       "       [1., 1., 1., 1., 1.]])"
      ]
     },
     "execution_count": 26,
     "metadata": {},
     "output_type": "execute_result"
    }
   ],
   "source": [
    "np.ones((2,5))"
   ]
  },
  {
   "cell_type": "code",
   "execution_count": 29,
   "id": "71b13e06-f71e-4849-99a9-ef35d897b8d5",
   "metadata": {},
   "outputs": [
    {
     "data": {
      "text/plain": [
       "array([[1., 0., 0.],\n",
       "       [0., 1., 0.],\n",
       "       [0., 0., 1.]])"
      ]
     },
     "execution_count": 29,
     "metadata": {},
     "output_type": "execute_result"
    }
   ],
   "source": [
    "# identity arrray\n",
    "np.eye(3)"
   ]
  },
  {
   "cell_type": "markdown",
   "id": "d92a013f-6b25-40ab-a0a7-5973fd0a9622",
   "metadata": {},
   "source": [
    "### numpy vectoriz operation"
   ]
  },
  {
   "cell_type": "code",
   "execution_count": 33,
   "id": "9ce0c031-1128-4634-8e49-eb94d1e3752f",
   "metadata": {},
   "outputs": [
    {
     "name": "stdout",
     "output_type": "stream",
     "text": [
      "additina [ 6  8  8 12  6 13]\n",
      "additina [-4 -8 -4 -6 -4 -3]\n",
      "additina [ 5  0 12 27  5 40]\n",
      "additina [0.2        0.         0.33333333 0.33333333 0.2        0.625     ]\n"
     ]
    }
   ],
   "source": [
    "arr1=np.array([1,0,2,3,1,5])\n",
    "arr2=np.array([5,8,6,9,5,8])\n",
    " # element wise addition \n",
    "print(\"additina\",arr1+arr2)\n",
    "\n",
    "\n",
    " # element wise substraction \n",
    "print(\"additina\",arr1-arr2)\n",
    "\n",
    "\n",
    " # element wise multiplication\n",
    "print(\"additina\",arr1*arr2)\n",
    "\n",
    " # element wise divisioon\n",
    "print(\"additina\",arr1/arr2)"
   ]
  },
  {
   "cell_type": "markdown",
   "id": "18ac0a7b-4280-4ae7-adc1-e666a7b5992a",
   "metadata": {},
   "source": [
    "## universal function in array numpy"
   ]
  },
  {
   "cell_type": "code",
   "execution_count": 38,
   "id": "72d4432a-34df-4f51-b9c9-98de857195e8",
   "metadata": {},
   "outputs": [
    {
     "name": "stdout",
     "output_type": "stream",
     "text": [
      "[2.23606798 2.82842712 2.44948974 3.         2.23606798 2.82842712]\n",
      "[ 148.4131591  2980.95798704  403.42879349 8103.08392758  148.4131591\n",
      " 2980.95798704]\n",
      "[-0.95892427  0.98935825 -0.2794155   0.41211849 -0.95892427  0.98935825]\n"
     ]
    }
   ],
   "source": [
    "arr2=np.array([5,8,6,9,5,8])\n",
    "## square root\n",
    "print(np.sqrt(arr2))\n",
    "\n",
    "#exponential\n",
    "print(np.exp(arr2))\n",
    "\n",
    "# sign\n",
    "print(np.sin(arr2))\n",
    "\n",
    "# we can apply all trignometric funcction"
   ]
  },
  {
   "cell_type": "markdown",
   "id": "5b030191-485b-4391-a688-e3e44b27fb4b",
   "metadata": {},
   "source": [
    "## array slicing and indexing"
   ]
  },
  {
   "cell_type": "code",
   "execution_count": 39,
   "id": "b85b6eba-5376-437e-84b9-232ebe4d59b5",
   "metadata": {},
   "outputs": [
    {
     "data": {
      "text/plain": [
       "array([[ 1,  2,  3,  4],\n",
       "       [ 5,  6,  7,  8],\n",
       "       [ 9, 10, 11, 12]])"
      ]
     },
     "execution_count": 39,
     "metadata": {},
     "output_type": "execute_result"
    }
   ],
   "source": [
    "arr=np.array([[1,2,3,4],[5,6,7,8],[9,10,11,12]])\n",
    "arr"
   ]
  },
  {
   "cell_type": "code",
   "execution_count": 41,
   "id": "982e1602-35b6-4ba1-a97d-5b35c86bb24e",
   "metadata": {},
   "outputs": [
    {
     "data": {
      "text/plain": [
       "np.int64(1)"
      ]
     },
     "execution_count": 41,
     "metadata": {},
     "output_type": "execute_result"
    }
   ],
   "source": [
    "arr[0][0]"
   ]
  },
  {
   "cell_type": "code",
   "execution_count": 44,
   "id": "dcc1577f-2b99-483f-bdc8-afadd3e0199a",
   "metadata": {},
   "outputs": [
    {
     "data": {
      "text/plain": [
       "array([[ 7,  8],\n",
       "       [11, 12]])"
      ]
     },
     "execution_count": 44,
     "metadata": {},
     "output_type": "execute_result"
    }
   ],
   "source": [
    "arr[1:3,2:5]"
   ]
  },
  {
   "cell_type": "code",
   "execution_count": 46,
   "id": "f48cb039-0e5d-41d4-a295-2a942314ff41",
   "metadata": {},
   "outputs": [
    {
     "data": {
      "text/plain": [
       "array([[  1,   2,   3,   4],\n",
       "       [200,   6,   7,   8],\n",
       "       [  9,  10,  11,  12]])"
      ]
     },
     "execution_count": 46,
     "metadata": {},
     "output_type": "execute_result"
    }
   ],
   "source": [
    "## modify element\n",
    "arr[1][0]=200\n",
    "arr\n",
    "\n",
    "\n"
   ]
  },
  {
   "cell_type": "markdown",
   "id": "6d9b31fc-0dc1-42a7-b25a-c95d0b76b744",
   "metadata": {},
   "source": [
    "# stastistical concept --- Normalzation\n",
    "\n",
    "##### mean =0 and standard deviation=1"
   ]
  },
  {
   "cell_type": "code",
   "execution_count": 51,
   "id": "c71440e8-b5d0-4c49-9e40-b880a2bd0eb7",
   "metadata": {},
   "outputs": [
    {
     "name": "stdout",
     "output_type": "stream",
     "text": [
      "mean is: 6.833333333333333\n",
      "standard devitation is: 1.5723301886761007\n",
      "median is: 7.0\n",
      "variance is: 2.4722222222222223\n",
      "normalized_data: [ 1.16599767 -0.74199852  0.52999894 -1.37799724  1.16599767 -0.74199852]\n"
     ]
    }
   ],
   "source": [
    "data= arr2=np.array([5,8,6,9,5,8])\n",
    "\n",
    "mean=np.mean(data)\n",
    "print(\"mean is:\",mean)\n",
    "\n",
    "std_dv=np.std(data)\n",
    "print(\"standard devitation is:\",std_dv)\n",
    "\n",
    "median=np.median(data)\n",
    "print(\"median is:\",median)\n",
    "\n",
    "\n",
    "variance=np.var(data)\n",
    "print(\"variance is:\",variance)\n",
    "\n",
    "\n",
    "normalization=(mean-data)/std_dv\n",
    "print(\"normalized_data:\" ,normalization)"
   ]
  },
  {
   "cell_type": "code",
   "execution_count": 54,
   "id": "2ccf9728-767a-455e-a1cd-cd735a191880",
   "metadata": {},
   "outputs": [
    {
     "data": {
      "text/plain": [
       "array([ 8,  6,  9,  8, 88])"
      ]
     },
     "execution_count": 54,
     "metadata": {},
     "output_type": "execute_result"
    }
   ],
   "source": [
    "## logical operation in numpy\n",
    "data= arr2=np.array([5,8,6,9,5,8,5,1,2,4,5,88])\n",
    "\n",
    "data[data>5]\n"
   ]
  },
  {
   "cell_type": "code",
   "execution_count": 55,
   "id": "f1d6a539-8568-42e9-aa82-78cfc818283d",
   "metadata": {},
   "outputs": [
    {
     "data": {
      "text/plain": [
       "array([8, 6, 8])"
      ]
     },
     "execution_count": 55,
     "metadata": {},
     "output_type": "execute_result"
    }
   ],
   "source": [
    "data[(data>5) &(data<9)]"
   ]
  },
  {
   "cell_type": "code",
   "execution_count": null,
   "id": "b13b94ab-44ed-48a6-9555-b114d6db52bd",
   "metadata": {},
   "outputs": [],
   "source": []
  },
  {
   "cell_type": "code",
   "execution_count": null,
   "id": "90ff3fc7-9b2f-4827-b519-5c3f3e496ff2",
   "metadata": {},
   "outputs": [],
   "source": []
  }
 ],
 "metadata": {
  "kernelspec": {
   "display_name": "Python 3 (ipykernel)",
   "language": "python",
   "name": "python3"
  },
  "language_info": {
   "codemirror_mode": {
    "name": "ipython",
    "version": 3
   },
   "file_extension": ".py",
   "mimetype": "text/x-python",
   "name": "python",
   "nbconvert_exporter": "python",
   "pygments_lexer": "ipython3",
   "version": "3.13.5"
  }
 },
 "nbformat": 4,
 "nbformat_minor": 5
}
